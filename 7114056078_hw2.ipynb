{
  "cells": [
    {
      "cell_type": "markdown",
      "metadata": {},
      "source": [
        "# 7114056078 HW2 — Bank Marketing Regression\n",
        "\n",
        "本筆記本將進行資料載入與基礎視覺化。\n",
        "- 請將 Kaggle 下載的資料檔命名為 `bank.csv` 並放在同資料夾。\n",
        "- 本專案支援自動偵測分隔符（`,` 或 `;`）以避免載入失敗。\n"
      ]
    },
    {
      "cell_type": "code",
      "execution_count": null,
      "metadata": {},
      "outputs": [],
      "source": [
        "# Environment setup\n",
        "import pandas as pd\n",
        "import numpy as np\n",
        "import matplotlib.pyplot as plt\n",
        "import seaborn as sns\n",
        "%matplotlib inline\n",
        "\n",
        "sns.set(style='whitegrid', palette='muted')\n",
        "plt.rcParams['figure.figsize'] = (10, 6)\n"
      ]
    },
    {
      "cell_type": "code",
      "execution_count": null,
      "metadata": {},
      "outputs": [],
      "source": [
        "# Robust loader: auto-detect delimiter and handle common issues\n",
        "from pathlib import Path\n",
        "\n",
        "data_path = Path('bank.csv')\n",
        "if not data_path.exists():\n",
        "    raise FileNotFoundError(\"找不到 bank.csv，請將 Kaggle 檔案放到此資料夾並命名為 bank.csv\")\n",
        "\n",
        "# Try pandas' python engine sniffing first, then explicit fallbacks\n",
        "try:\n",
        "    df = pd.read_csv(data_path, sep=None, engine='python')\n",
        "except Exception:\n",
        "    try:\n",
        "        df = pd.read_csv(data_path, sep=';')\n",
        "    except Exception:\n",
        "        df = pd.read_csv(data_path)\n",
        "\n",
        "# If only 1 column is read (common when delimiter mismatches), retry with ';'\n",
        "if df.shape[1] == 1:\n",
        "    try:\n",
        "        df = pd.read_csv(data_path, sep=';')\n",
        "    except Exception:\n",
        "        pass\n",
        "\n",
        "display(df.head())\n",
        "print(f'Shape: {df.shape}')\n"
      ]
    },
    {
      "cell_type": "code",
      "execution_count": null,
      "metadata": {},
      "outputs": [],
      "source": [
        "# Numeric distributions\n",
        "numeric_cols = df.select_dtypes(include=[np.number]).columns.tolist()\n",
        "if numeric_cols:\n",
        "    ax = df[numeric_cols].hist(bins=20, figsize=(16, 12))\n",
        "    plt.suptitle('Numeric Feature Distributions', y=1.02)\n",
        "    plt.tight_layout()\n",
        "else:\n",
        "    print('沒有偵測到數值欄位，請確認資料是否正確載入（分隔符可能錯誤）。')\n"
      ]
    },
    {
      "cell_type": "code",
      "execution_count": null,
      "metadata": {},
      "outputs": [],
      "source": [
        "# Correlation heatmap for numeric columns\n",
        "if len(numeric_cols) >= 2:\n",
        "    corr = df[numeric_cols].corr(numeric_only=True)\n",
        "    mask = np.triu(np.ones_like(corr, dtype=bool))\n",
        "    plt.figure(figsize=(12, 10))\n",
        "    sns.heatmap(corr, mask=mask, cmap='vlag', center=0, annot=False, square=True, cbar_kws={'shrink': .8})\n",
        "    plt.title('Correlation Heatmap (Numeric)')\n",
        "    plt.tight_layout()\n",
        "else:\n",
        "    print('數值欄位不足以計算相關係數。')\n"
      ]
    },
    {
      "cell_type": "code",
      "execution_count": null,
      "metadata": {},
      "outputs": [],
      "source": [
        "# Categorical count plots (optionally against target if present)\n",
        "cat_cols = df.select_dtypes(include=['object', 'category', 'bool']).columns.tolist()\n",
        "target = 'y' if 'y' in df.columns else ('deposit' if 'deposit' in df.columns else None)\n",
        "# Avoid plotting the target itself as feature\n",
        "features = [c for c in cat_cols if c != target]\n",
        "\n",
        "max_feats = 6  # avoid too many plots\n",
        "plot_cols = features[:max_feats]\n",
        "if plot_cols:\n",
        "    n = len(plot_cols)\n",
        "    rows = int(np.ceil(n / 2))\n",
        "    fig, axes = plt.subplots(rows, 2, figsize=(16, 5*rows))\n",
        "    axes = axes.flatten() if n > 1 else [axes]\n",
        "    for i, col in enumerate(plot_cols):\n",
        "        order = df[col].value_counts().index\n",
        "        if target:\n",
        "            sns.countplot(data=df, x=col, hue=target, order=order, ax=axes[i])\n",
        "        else:\n",
        "            sns.countplot(data=df, x=col, order=order, ax=axes[i])\n",
        "        axes[i].set_title(f'{col} count')\n",
        "        axes[i].tick_params(axis='x', rotation=30)\n",
        "    for j in range(i+1, len(axes)):\n",
        "        fig.delaxes(axes[j])\n",
        "    plt.tight_layout()\n",
        "else:\n",
        "    print('沒有可視覺化的類別欄位。')\n"
      ]
    }
  ],
  "metadata": {
    "kernelspec": {
      "display_name": "Python 3",
      "language": "python",
      "name": "python3"
    },
    "language_info": {
      "name": "python",
      "version": "3.10"
    }
  },
  "nbformat": 4,
  "nbformat_minor": 5
}
